{
 "cells": [
  {
   "cell_type": "code",
   "execution_count": 1,
   "metadata": {},
   "outputs": [
    {
     "name": "stderr",
     "output_type": "stream",
     "text": [
      "C:\\Users\\Amy\\Anaconda3\\lib\\site-packages\\h5py\\__init__.py:36: FutureWarning: Conversion of the second argument of issubdtype from `float` to `np.floating` is deprecated. In future, it will be treated as `np.float64 == np.dtype(float).type`.\n",
      "  from ._conv import register_converters as _register_converters\n",
      "Using TensorFlow backend.\n"
     ]
    }
   ],
   "source": [
    "import pandas as pd\n",
    "import numpy as np\n",
    "from keras.preprocessing.image import ImageDataGenerator\n",
    "import os\n",
    "from sklearn.model_selection import train_test_split\n",
    "import shutil #pip install pytest-shutil"
   ]
  },
  {
   "cell_type": "code",
   "execution_count": 10,
   "metadata": {},
   "outputs": [],
   "source": [
    "# Create new directory for the images\n",
    "base_dir = 'base_dir'\n",
    "os.mkdir(base_dir)"
   ]
  },
  {
   "cell_type": "code",
   "execution_count": 11,
   "metadata": {},
   "outputs": [],
   "source": [
    "# Training file directory\n",
    "train_dir = os.path.join(base_dir, 'train_dir')\n",
    "os.mkdir(train_dir)\n",
    "\n",
    "# Validation file directory\n",
    "val_dir = os.path.join(base_dir, 'val_dir')\n",
    "os.mkdir(val_dir)"
   ]
  },
  {
   "cell_type": "code",
   "execution_count": 12,
   "metadata": {},
   "outputs": [],
   "source": [
    "# Create new folders in training directory for each of the 7 classes\n",
    "\n",
    "nv = os.path.join(train_dir, 'nv')\n",
    "os.mkdir(nv)\n",
    "mel = os.path.join(train_dir, 'mel')\n",
    "os.mkdir(mel)\n",
    "bkl = os.path.join(train_dir, 'bkl')\n",
    "os.mkdir(bkl)\n",
    "bcc = os.path.join(train_dir, 'bcc')\n",
    "os.mkdir(bcc)\n",
    "akiec = os.path.join(train_dir, 'akiec')\n",
    "os.mkdir(akiec)\n",
    "vasc = os.path.join(train_dir, 'vasc')\n",
    "os.mkdir(vasc)\n",
    "df = os.path.join(train_dir, 'df')\n",
    "os.mkdir(df)\n",
    "\n",
    "# Create new folders in validation directory for each of the 7 classes\n",
    "\n",
    "nv = os.path.join(val_dir, 'nv')\n",
    "os.mkdir(nv)\n",
    "mel = os.path.join(val_dir, 'mel')\n",
    "os.mkdir(mel)\n",
    "bkl = os.path.join(val_dir, 'bkl')\n",
    "os.mkdir(bkl)\n",
    "bcc = os.path.join(val_dir, 'bcc')\n",
    "os.mkdir(bcc)\n",
    "akiec = os.path.join(val_dir, 'akiec')\n",
    "os.mkdir(akiec)\n",
    "vasc = os.path.join(val_dir, 'vasc')\n",
    "os.mkdir(vasc)\n",
    "df = os.path.join(val_dir, 'df')\n",
    "os.mkdir(df)"
   ]
  },
  {
   "cell_type": "code",
   "execution_count": 13,
   "metadata": {},
   "outputs": [
    {
     "data": {
      "text/html": [
       "<div>\n",
       "<style scoped>\n",
       "    .dataframe tbody tr th:only-of-type {\n",
       "        vertical-align: middle;\n",
       "    }\n",
       "\n",
       "    .dataframe tbody tr th {\n",
       "        vertical-align: top;\n",
       "    }\n",
       "\n",
       "    .dataframe thead th {\n",
       "        text-align: right;\n",
       "    }\n",
       "</style>\n",
       "<table border=\"1\" class=\"dataframe\">\n",
       "  <thead>\n",
       "    <tr style=\"text-align: right;\">\n",
       "      <th></th>\n",
       "      <th>lesion_id</th>\n",
       "      <th>image_id</th>\n",
       "      <th>dx</th>\n",
       "      <th>dx_type</th>\n",
       "      <th>age</th>\n",
       "      <th>sex</th>\n",
       "      <th>localization</th>\n",
       "    </tr>\n",
       "  </thead>\n",
       "  <tbody>\n",
       "    <tr>\n",
       "      <th>9881</th>\n",
       "      <td>HAM_0001625</td>\n",
       "      <td>ISIC_0028224</td>\n",
       "      <td>akiec</td>\n",
       "      <td>histo</td>\n",
       "      <td>40.0</td>\n",
       "      <td>female</td>\n",
       "      <td>chest</td>\n",
       "    </tr>\n",
       "    <tr>\n",
       "      <th>5353</th>\n",
       "      <td>HAM_0005687</td>\n",
       "      <td>ISIC_0027880</td>\n",
       "      <td>nv</td>\n",
       "      <td>follow_up</td>\n",
       "      <td>65.0</td>\n",
       "      <td>male</td>\n",
       "      <td>upper extremity</td>\n",
       "    </tr>\n",
       "    <tr>\n",
       "      <th>271</th>\n",
       "      <td>HAM_0001927</td>\n",
       "      <td>ISIC_0029600</td>\n",
       "      <td>bkl</td>\n",
       "      <td>histo</td>\n",
       "      <td>85.0</td>\n",
       "      <td>female</td>\n",
       "      <td>abdomen</td>\n",
       "    </tr>\n",
       "    <tr>\n",
       "      <th>9873</th>\n",
       "      <td>HAM_0005480</td>\n",
       "      <td>ISIC_0026149</td>\n",
       "      <td>akiec</td>\n",
       "      <td>histo</td>\n",
       "      <td>65.0</td>\n",
       "      <td>male</td>\n",
       "      <td>face</td>\n",
       "    </tr>\n",
       "    <tr>\n",
       "      <th>2897</th>\n",
       "      <td>HAM_0006904</td>\n",
       "      <td>ISIC_0027281</td>\n",
       "      <td>bcc</td>\n",
       "      <td>histo</td>\n",
       "      <td>70.0</td>\n",
       "      <td>male</td>\n",
       "      <td>back</td>\n",
       "    </tr>\n",
       "  </tbody>\n",
       "</table>\n",
       "</div>"
      ],
      "text/plain": [
       "        lesion_id      image_id     dx    dx_type   age     sex  \\\n",
       "9881  HAM_0001625  ISIC_0028224  akiec      histo  40.0  female   \n",
       "5353  HAM_0005687  ISIC_0027880     nv  follow_up  65.0    male   \n",
       "271   HAM_0001927  ISIC_0029600    bkl      histo  85.0  female   \n",
       "9873  HAM_0005480  ISIC_0026149  akiec      histo  65.0    male   \n",
       "2897  HAM_0006904  ISIC_0027281    bcc      histo  70.0    male   \n",
       "\n",
       "         localization  \n",
       "9881            chest  \n",
       "5353  upper extremity  \n",
       "271           abdomen  \n",
       "9873             face  \n",
       "2897             back  "
      ]
     },
     "execution_count": 13,
     "metadata": {},
     "output_type": "execute_result"
    }
   ],
   "source": [
    "# Read metadata file\n",
    "\n",
    "mdf = pd.read_csv('HAM10000_metadata.csv')\n",
    "\n",
    "mdf.sample(5)"
   ]
  },
  {
   "cell_type": "code",
   "execution_count": 14,
   "metadata": {},
   "outputs": [],
   "source": [
    "# Set y as the data labels (column dx)\n",
    "y = mdf['dx']"
   ]
  },
  {
   "cell_type": "code",
   "execution_count": 15,
   "metadata": {},
   "outputs": [
    {
     "name": "stdout",
     "output_type": "stream",
     "text": [
      "(9013, 7)\n",
      "(1002, 7)\n"
     ]
    }
   ],
   "source": [
    "# Split into training and validation\n",
    "mdf_train, mdf_val = train_test_split(mdf, test_size = 0.1, random_state = 101, stratify = y)\n",
    "\n",
    "# Print shapes of the train and validation split\n",
    "print(mdf_train.shape)\n",
    "print(mdf_val.shape)"
   ]
  },
  {
   "cell_type": "code",
   "execution_count": 16,
   "metadata": {},
   "outputs": [],
   "source": [
    "# Transfer the images into folders, set the image id as the index\n",
    "mdf.set_index('image_id', inplace = True)\n",
    "\n",
    "# Get a list of the images in each of the two folders\n",
    "folder_1 = os.listdir('ham10000_images_part_1')\n",
    "folder_2 = os.listdir('ham10000_images_part_2')"
   ]
  },
  {
   "cell_type": "code",
   "execution_count": 17,
   "metadata": {},
   "outputs": [],
   "source": [
    "# Get a list of the train and validation images\n",
    "train_list = list(mdf_train['image_id'])\n",
    "val_list = list(mdf_val['image_id'])"
   ]
  },
  {
   "cell_type": "code",
   "execution_count": 18,
   "metadata": {},
   "outputs": [],
   "source": [
    "# Transfer the training images\n",
    "\n",
    "for image in train_list:\n",
    "    \n",
    "    fname = image + '.jpg'\n",
    "    label = mdf.loc[image, 'dx']\n",
    "    \n",
    "    if fname in folder_1:\n",
    "        # Source path to image\n",
    "        src = os.path.join('ham10000_images_part_1', fname)\n",
    "        # Destination path to image\n",
    "        dst = os.path.join(train_dir, label, fname)\n",
    "        # Copy the image from the source to the destination\n",
    "        shutil.copyfile(src, dst)\n",
    "\n",
    "    if fname in folder_2:\n",
    "        # Source path to image\n",
    "        src = os.path.join('ham10000_images_part_2', fname)\n",
    "        # Destination path to image\n",
    "        dst = os.path.join(train_dir, label, fname)\n",
    "        # Copy the image from the source to the destination\n",
    "        shutil.copyfile(src, dst)\n"
   ]
  },
  {
   "cell_type": "code",
   "execution_count": 20,
   "metadata": {},
   "outputs": [],
   "source": [
    "# Transfer the validation images\n",
    "\n",
    "for image in val_list:\n",
    "\n",
    "    fname = image + '.jpg'\n",
    "    label = mdf.loc[image, 'dx']\n",
    "\n",
    "    if fname in folder_1:\n",
    "        # Source path to image\n",
    "        src = os.path.join('ham10000_images_part_1', fname)\n",
    "        # Destination path to image\n",
    "        dst = os.path.join(val_dir, label, fname)\n",
    "        # Copy the image from the source to the destination\n",
    "        shutil.copyfile(src, dst)\n",
    "\n",
    "    if fname in folder_2:\n",
    "        # Source path to image\n",
    "        src = os.path.join('ham10000_images_part_2', fname)\n",
    "        # Destination path to image\n",
    "        dst = os.path.join(val_dir, label, fname)\n",
    "        # Copy the image from the source to the destination\n",
    "        shutil.copyfile(src, dst)"
   ]
  },
  {
   "cell_type": "code",
   "execution_count": 21,
   "metadata": {},
   "outputs": [
    {
     "name": "stdout",
     "output_type": "stream",
     "text": [
      "6034\n",
      "1002\n",
      "989\n",
      "462\n",
      "294\n",
      "128\n",
      "103\n",
      "671\n",
      "111\n",
      "110\n",
      "51\n",
      "33\n",
      "14\n",
      "12\n"
     ]
    }
   ],
   "source": [
    "# Check how many training images are in each folder\n",
    "\n",
    "print(len(os.listdir('base_dir/train_dir/nv')))\n",
    "print(len(os.listdir('base_dir/train_dir/mel')))\n",
    "print(len(os.listdir('base_dir/train_dir/bkl')))\n",
    "print(len(os.listdir('base_dir/train_dir/bcc')))\n",
    "print(len(os.listdir('base_dir/train_dir/akiec')))\n",
    "print(len(os.listdir('base_dir/train_dir/vasc')))\n",
    "print(len(os.listdir('base_dir/train_dir/df')))\n",
    "\n",
    "# Check how many validation images are in each folder\n",
    "\n",
    "print(len(os.listdir('base_dir/val_dir/nv')))\n",
    "print(len(os.listdir('base_dir/val_dir/mel')))\n",
    "print(len(os.listdir('base_dir/val_dir/bkl')))\n",
    "print(len(os.listdir('base_dir/val_dir/bcc')))\n",
    "print(len(os.listdir('base_dir/val_dir/akiec')))\n",
    "print(len(os.listdir('base_dir/val_dir/vasc')))\n",
    "print(len(os.listdir('base_dir/val_dir/df')))"
   ]
  },
  {
   "cell_type": "code",
   "execution_count": 22,
   "metadata": {},
   "outputs": [
    {
     "name": "stdout",
     "output_type": "stream",
     "text": [
      "Found 1002 images belonging to 1 classes.\n",
      "Found 989 images belonging to 1 classes.\n",
      "Found 462 images belonging to 1 classes.\n",
      "Found 294 images belonging to 1 classes.\n",
      "Found 128 images belonging to 1 classes.\n",
      "Found 103 images belonging to 1 classes.\n"
     ]
    }
   ],
   "source": [
    "# Augment the data in the training set, class 'nv' is not going to be augmented\n",
    "\n",
    "class_list = ['mel', 'bkl', 'bcc', 'akiec', 'vasc', 'df']\n",
    "\n",
    "for item in class_list:\n",
    "\n",
    "    # Create a temporary directory for the augmented images\n",
    "    aug_dir = 'aug_dir'\n",
    "    os.mkdir(aug_dir)\n",
    "\n",
    "    # Create a directory within the base dir to store images of the same class\n",
    "    img_dir = os.path.join(aug_dir, 'img_dir')\n",
    "    os.mkdir(img_dir)\n",
    "\n",
    "    # Choose a class\n",
    "    img_class = item\n",
    "\n",
    "    # List all the images in the directory\n",
    "    img_list = os.listdir('base_dir/train_dir/' + img_class)\n",
    "\n",
    "    # Copy images from the class train dir to the img_dir\n",
    "    for fname in img_list:\n",
    "        # Source path to image\n",
    "        src = os.path.join('base_dir/train_dir/' + img_class, fname)\n",
    "        # Destination path to image\n",
    "        dst = os.path.join(img_dir, fname)\n",
    "        # Copy the image from the source to the destination\n",
    "        shutil.copyfile(src, dst)\n",
    "\n",
    "    # Point to a dir containing the images and not to the images themselves\n",
    "    path = aug_dir\n",
    "    save_path = 'base_dir/train_dir/' + img_class\n",
    "\n",
    "    # Create a data generator to augment the images in real time\n",
    "    datagen = ImageDataGenerator(\n",
    "        rotation_range=180,\n",
    "        width_shift_range=0.1,\n",
    "        height_shift_range=0.1,\n",
    "        zoom_range=0.1,\n",
    "        horizontal_flip=True,\n",
    "        vertical_flip=True,\n",
    "        # brightness_range=(0.9,1.1),\n",
    "        fill_mode='nearest')\n",
    "\n",
    "    batch_size = 50\n",
    "\n",
    "    aug_datagen = datagen.flow_from_directory(path,\n",
    "                                              save_to_dir=save_path,\n",
    "                                              save_format='jpg',\n",
    "                                              target_size=(224, 224),\n",
    "                                              batch_size=batch_size)\n",
    "\n",
    "    # Generate the augmented images and add them to the training folders\n",
    "    num_aug_images_wanted = 6000  # total number of images we want to have in each class\n",
    "    num_files = len(os.listdir(img_dir))\n",
    "    num_batches = int(np.ceil((num_aug_images_wanted - num_files) / batch_size))\n",
    "\n",
    "    # Run the generator and create about 6000 augmented images\n",
    "    for i in range(0, num_batches):\n",
    "        imgs, labels = next(aug_datagen)\n",
    "\n",
    "    # Delete temporary directory with the raw image files\n",
    "    shutil.rmtree('aug_dir')"
   ]
  },
  {
   "cell_type": "code",
   "execution_count": null,
   "metadata": {},
   "outputs": [],
   "source": []
  }
 ],
 "metadata": {
  "kernelspec": {
   "display_name": "Python 3",
   "language": "python",
   "name": "python3"
  },
  "language_info": {
   "codemirror_mode": {
    "name": "ipython",
    "version": 3
   },
   "file_extension": ".py",
   "mimetype": "text/x-python",
   "name": "python",
   "nbconvert_exporter": "python",
   "pygments_lexer": "ipython3",
   "version": "3.6.4"
  }
 },
 "nbformat": 4,
 "nbformat_minor": 2
}
